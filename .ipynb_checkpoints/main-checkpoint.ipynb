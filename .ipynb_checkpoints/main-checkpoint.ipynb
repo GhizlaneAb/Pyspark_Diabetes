{
 "cells": [
  {
   "cell_type": "code",
   "execution_count": 2,
   "id": "2254229f",
   "metadata": {},
   "outputs": [
    {
     "name": "stderr",
     "output_type": "stream",
     "text": [
      "Setting default log level to \"WARN\".\n",
      "To adjust logging level use sc.setLogLevel(newLevel). For SparkR, use setLogLevel(newLevel).\n"
     ]
    },
    {
     "name": "stdout",
     "output_type": "stream",
     "text": [
      "22/11/19 23:06:39 WARN NativeCodeLoader: Unable to load native-hadoop library for your platform... using builtin-java classes where applicable\n"
     ]
    }
   ],
   "source": [
    "from pyspark.sql import SparkSession\n",
    "spark = SparkSession.builder.appName(\"spark\").getOrCreate()"
   ]
  },
  {
   "cell_type": "code",
   "execution_count": 3,
   "id": "e848331d",
   "metadata": {},
   "outputs": [
    {
     "name": "stderr",
     "output_type": "stream",
     "text": [
      "\r",
      "[Stage 0:>                                                          (0 + 1) / 1]\r",
      "\r",
      "                                                                                \r"
     ]
    }
   ],
   "source": [
    "df = spark.read.csv(\"./data/diabetes.csv\", header=True, inferSchema=True)"
   ]
  },
  {
   "cell_type": "code",
   "execution_count": 4,
   "id": "5dfcd764",
   "metadata": {},
   "outputs": [
    {
     "name": "stdout",
     "output_type": "stream",
     "text": [
      "+-----------+-------+-------------+-------------+-------+----+------------------------+---+---------------+\n",
      "|Pregnancies|Glucose|BloodPressure|SkinThickness|Insulin| BMI|DiabetesPedigreeFunction|Age|         Classe|\n",
      "+-----------+-------+-------------+-------------+-------+----+------------------------+---+---------------+\n",
      "|          6|    148|           72|           35|      0|33.6|                   0.627| 50|tested_positive|\n",
      "|          1|     85|           66|           29|      0|26.6|                   0.351| 31|tested_negative|\n",
      "|          8|    183|           64|            0|      0|23.3|                   0.672| 32|tested_positive|\n",
      "|          1|     89|           66|           23|     94|28.1|                   0.167| 21|tested_negative|\n",
      "|          0|    137|           40|           35|    168|43.1|                   2.288| 33|tested_positive|\n",
      "|          5|    116|           74|            0|      0|25.6|                   0.201| 30|tested_negative|\n",
      "|          3|     78|           50|           32|     88|31.0|                   0.248| 26|tested_positive|\n",
      "|         10|    115|            0|            0|      0|35.3|                   0.134| 29|tested_negative|\n",
      "|          2|    197|           70|           45|    543|30.5|                   0.158| 53|tested_positive|\n",
      "|          8|    125|           96|            0|      0| 0.0|                   0.232| 54|tested_positive|\n",
      "|          4|    110|           92|            0|      0|37.6|                   0.191| 30|tested_negative|\n",
      "|         10|    168|           74|            0|      0|38.0|                   0.537| 34|tested_positive|\n",
      "|         10|    139|           80|            0|      0|27.1|                   1.441| 57|tested_negative|\n",
      "|          1|    189|           60|           23|    846|30.1|                   0.398| 59|tested_positive|\n",
      "|          5|    166|           72|           19|    175|25.8|                   0.587| 51|tested_positive|\n",
      "|          7|    100|            0|            0|      0|30.0|                   0.484| 32|tested_positive|\n",
      "|          0|    118|           84|           47|    230|45.8|                   0.551| 31|tested_positive|\n",
      "|          7|    107|           74|            0|      0|29.6|                   0.254| 31|tested_positive|\n",
      "|          1|    103|           30|           38|     83|43.3|                   0.183| 33|tested_negative|\n",
      "|          1|    115|           70|           30|     96|34.6|                   0.529| 32|tested_positive|\n",
      "+-----------+-------+-------------+-------------+-------+----+------------------------+---+---------------+\n",
      "only showing top 20 rows\n",
      "\n"
     ]
    }
   ],
   "source": [
    "df.show()"
   ]
  },
  {
   "cell_type": "code",
   "execution_count": 5,
   "id": "7defff3f",
   "metadata": {},
   "outputs": [
    {
     "name": "stdout",
     "output_type": "stream",
     "text": [
      "root\n",
      " |-- Pregnancies: integer (nullable = true)\n",
      " |-- Glucose: integer (nullable = true)\n",
      " |-- BloodPressure: integer (nullable = true)\n",
      " |-- SkinThickness: integer (nullable = true)\n",
      " |-- Insulin: integer (nullable = true)\n",
      " |-- BMI: double (nullable = true)\n",
      " |-- DiabetesPedigreeFunction: double (nullable = true)\n",
      " |-- Age: integer (nullable = true)\n",
      " |-- Classe: string (nullable = true)\n",
      "\n"
     ]
    }
   ],
   "source": [
    "df.printSchema()"
   ]
  },
  {
   "cell_type": "code",
   "execution_count": 39,
   "id": "faa74cd9",
   "metadata": {},
   "outputs": [],
   "source": [
    "from pyspark.ml.feature import StringIndexer\n",
    "# conversion\n",
    "df = df.na.drop()\n",
    "indexer = StringIndexer(inputCol='Classe', outputCol='Class').fit(df)\n",
    "new_df = indexer.transform(df)"
   ]
  },
  {
   "cell_type": "code",
   "execution_count": 40,
   "id": "1352f457",
   "metadata": {},
   "outputs": [
    {
     "name": "stdout",
     "output_type": "stream",
     "text": [
      "+-----------+-------+-------------+-------------+-------+----+------------------------+---+-----+\n",
      "|Pregnancies|Glucose|BloodPressure|SkinThickness|Insulin| BMI|DiabetesPedigreeFunction|Age|Class|\n",
      "+-----------+-------+-------------+-------------+-------+----+------------------------+---+-----+\n",
      "|          6|    148|           72|           35|      0|33.6|                   0.627| 50|  1.0|\n",
      "|          1|     85|           66|           29|      0|26.6|                   0.351| 31|  0.0|\n",
      "|          8|    183|           64|            0|      0|23.3|                   0.672| 32|  1.0|\n",
      "|          1|     89|           66|           23|     94|28.1|                   0.167| 21|  0.0|\n",
      "|          0|    137|           40|           35|    168|43.1|                   2.288| 33|  1.0|\n",
      "|          5|    116|           74|            0|      0|25.6|                   0.201| 30|  0.0|\n",
      "|          3|     78|           50|           32|     88|31.0|                   0.248| 26|  1.0|\n",
      "|         10|    115|            0|            0|      0|35.3|                   0.134| 29|  0.0|\n",
      "|          2|    197|           70|           45|    543|30.5|                   0.158| 53|  1.0|\n",
      "|          8|    125|           96|            0|      0| 0.0|                   0.232| 54|  1.0|\n",
      "|          4|    110|           92|            0|      0|37.6|                   0.191| 30|  0.0|\n",
      "|         10|    168|           74|            0|      0|38.0|                   0.537| 34|  1.0|\n",
      "|         10|    139|           80|            0|      0|27.1|                   1.441| 57|  0.0|\n",
      "|          1|    189|           60|           23|    846|30.1|                   0.398| 59|  1.0|\n",
      "|          5|    166|           72|           19|    175|25.8|                   0.587| 51|  1.0|\n",
      "|          7|    100|            0|            0|      0|30.0|                   0.484| 32|  1.0|\n",
      "|          0|    118|           84|           47|    230|45.8|                   0.551| 31|  1.0|\n",
      "|          7|    107|           74|            0|      0|29.6|                   0.254| 31|  1.0|\n",
      "|          1|    103|           30|           38|     83|43.3|                   0.183| 33|  0.0|\n",
      "|          1|    115|           70|           30|     96|34.6|                   0.529| 32|  1.0|\n",
      "+-----------+-------+-------------+-------------+-------+----+------------------------+---+-----+\n",
      "only showing top 20 rows\n",
      "\n"
     ]
    }
   ],
   "source": [
    "new_df  = new_df.drop('Classe')\n",
    "new_df.show()"
   ]
  },
  {
   "cell_type": "code",
   "execution_count": 41,
   "id": "a8a27318",
   "metadata": {},
   "outputs": [],
   "source": [
    "new_df=new_df.withColumnRenamed(\"class\",\"classe\")"
   ]
  },
  {
   "cell_type": "code",
   "execution_count": 42,
   "id": "c52b85f0",
   "metadata": {},
   "outputs": [
    {
     "name": "stdout",
     "output_type": "stream",
     "text": [
      "+-----------+-------+-------------+-------------+-------+----+------------------------+---+------+\n",
      "|Pregnancies|Glucose|BloodPressure|SkinThickness|Insulin| BMI|DiabetesPedigreeFunction|Age|classe|\n",
      "+-----------+-------+-------------+-------------+-------+----+------------------------+---+------+\n",
      "|          6|    148|           72|           35|      0|33.6|                   0.627| 50|   1.0|\n",
      "|          1|     85|           66|           29|      0|26.6|                   0.351| 31|   0.0|\n",
      "|          8|    183|           64|            0|      0|23.3|                   0.672| 32|   1.0|\n",
      "|          1|     89|           66|           23|     94|28.1|                   0.167| 21|   0.0|\n",
      "|          0|    137|           40|           35|    168|43.1|                   2.288| 33|   1.0|\n",
      "|          5|    116|           74|            0|      0|25.6|                   0.201| 30|   0.0|\n",
      "|          3|     78|           50|           32|     88|31.0|                   0.248| 26|   1.0|\n",
      "|         10|    115|            0|            0|      0|35.3|                   0.134| 29|   0.0|\n",
      "|          2|    197|           70|           45|    543|30.5|                   0.158| 53|   1.0|\n",
      "|          8|    125|           96|            0|      0| 0.0|                   0.232| 54|   1.0|\n",
      "|          4|    110|           92|            0|      0|37.6|                   0.191| 30|   0.0|\n",
      "|         10|    168|           74|            0|      0|38.0|                   0.537| 34|   1.0|\n",
      "|         10|    139|           80|            0|      0|27.1|                   1.441| 57|   0.0|\n",
      "|          1|    189|           60|           23|    846|30.1|                   0.398| 59|   1.0|\n",
      "|          5|    166|           72|           19|    175|25.8|                   0.587| 51|   1.0|\n",
      "|          7|    100|            0|            0|      0|30.0|                   0.484| 32|   1.0|\n",
      "|          0|    118|           84|           47|    230|45.8|                   0.551| 31|   1.0|\n",
      "|          7|    107|           74|            0|      0|29.6|                   0.254| 31|   1.0|\n",
      "|          1|    103|           30|           38|     83|43.3|                   0.183| 33|   0.0|\n",
      "|          1|    115|           70|           30|     96|34.6|                   0.529| 32|   1.0|\n",
      "+-----------+-------+-------------+-------------+-------+----+------------------------+---+------+\n",
      "only showing top 20 rows\n",
      "\n"
     ]
    }
   ],
   "source": [
    "new_df.show()"
   ]
  },
  {
   "cell_type": "code",
   "execution_count": 44,
   "id": "d6e4871d",
   "metadata": {},
   "outputs": [
    {
     "name": "stdout",
     "output_type": "stream",
     "text": [
      "(659, 9)\n",
      "+------+-----+\n",
      "|classe|count|\n",
      "+------+-----+\n",
      "|   0.0|  435|\n",
      "|   1.0|  224|\n",
      "+------+-----+\n",
      "\n"
     ]
    }
   ],
   "source": [
    "print((new_df.count(),len(new_df.columns)))\n",
    "new_df.groupBy('classe').count().show()"
   ]
  },
  {
   "cell_type": "code",
   "execution_count": 48,
   "id": "e76c153a",
   "metadata": {},
   "outputs": [
    {
     "name": "stdout",
     "output_type": "stream",
     "text": [
      "+-------+------------------+------------------+------------------+------------------+------------------+------------------+------------------------+------------------+-------------------+\n",
      "|summary|       Pregnancies|           Glucose|     BloodPressure|     SkinThickness|           Insulin|               BMI|DiabetesPedigreeFunction|               Age|             classe|\n",
      "+-------+------------------+------------------+------------------+------------------+------------------+------------------+------------------------+------------------+-------------------+\n",
      "|  count|               659|               659|               659|               659|               659|               659|                     659|               659|                659|\n",
      "|   mean| 3.786039453717754|120.17450682852807|  68.5948406676783|20.400606980273142| 79.88770864946889|31.826707132018186|     0.47700758725341375| 32.99696509863429|0.33990895295902884|\n",
      "| stddev|3.3564417861012616| 32.20288390950785|19.567621915914554|15.972061462171373|116.22535814549548|   7.8566748918577|      0.3392571066917042|11.642730876591525| 0.4740378105185091|\n",
      "|    min|                 0|                 0|                 0|                 0|                 0|               0.0|                   0.078|                21|                0.0|\n",
      "|    max|                17|               198|               122|                99|               846|              67.1|                    2.42|                81|                1.0|\n",
      "+-------+------------------+------------------+------------------+------------------+------------------+------------------+------------------------+------------------+-------------------+\n",
      "\n"
     ]
    }
   ],
   "source": [
    "new_df.describe().show()"
   ]
  },
  {
   "cell_type": "markdown",
   "id": "ddd99e75",
   "metadata": {},
   "source": [
    "## Data Cleaning & Preparation"
   ]
  },
  {
   "cell_type": "code",
   "execution_count": 53,
   "id": "070bcf40",
   "metadata": {},
   "outputs": [
    {
     "name": "stdout",
     "output_type": "stream",
     "text": [
      "Pregnancies: 0\n",
      "Glucose: 0\n",
      "BloodPressure: 0\n",
      "SkinThickness: 0\n",
      "Insulin: 0\n",
      "BMI: 0\n",
      "DiabetesPedigreeFunction: 0\n",
      "Age: 0\n",
      "classe: 0\n"
     ]
    }
   ],
   "source": [
    "#check for null values\n",
    "for col in new_df.columns:\n",
    "  print(col+\":\",new_df[new_df[col].isNull()].count())"
   ]
  },
  {
   "cell_type": "code",
   "execution_count": 54,
   "id": "f3bb0c5d",
   "metadata": {},
   "outputs": [],
   "source": [
    "#look for the unnecessary values present\n",
    "def count_zeros():\n",
    "  columns_list = [\"Glucose\", \"BloodPressure\", \"SkinThickness\", \"Insulin\", \"BMI\"]\n",
    "  for i in columns_list:\n",
    "    print(i+\":\",new_df[new_df[i]==0].count())"
   ]
  },
  {
   "cell_type": "code",
   "execution_count": 55,
   "id": "ddb57caf",
   "metadata": {},
   "outputs": [
    {
     "name": "stdout",
     "output_type": "stream",
     "text": [
      "Glucose: 5\n",
      "BloodPressure: 32\n",
      "SkinThickness: 195\n",
      "Insulin: 317\n",
      "BMI: 9\n"
     ]
    }
   ],
   "source": [
    "count_zeros()"
   ]
  },
  {
   "cell_type": "code",
   "execution_count": 56,
   "id": "3cb5315d",
   "metadata": {},
   "outputs": [
    {
     "name": "stdout",
     "output_type": "stream",
     "text": [
      "mean value for Glucose is 120\n",
      "mean value for BloodPressure is 68\n",
      "mean value for SkinThickness is 20\n",
      "mean value for Insulin is 79\n",
      "mean value for BMI is 31\n"
     ]
    }
   ],
   "source": [
    "#calculate and replace the unnecessary values by the mean value\n",
    "from pyspark.sql.functions import *\n",
    "\n",
    "for i in new_df.columns[1:6]:\n",
    "  data = new_df.agg({i:\"mean\"}).first()[0]\n",
    "  print(\"mean value for {} is {}\".format(i,int(data)))\n",
    "  new_df = new_df.withColumn(i, when(new_df[i]==0, int(data)).otherwise(new_df[i]))"
   ]
  },
  {
   "cell_type": "code",
   "execution_count": 57,
   "id": "2be2596c",
   "metadata": {},
   "outputs": [
    {
     "name": "stdout",
     "output_type": "stream",
     "text": [
      "+-----------+-------+-------------+-------------+-------+----+------------------------+---+------+\n",
      "|Pregnancies|Glucose|BloodPressure|SkinThickness|Insulin| BMI|DiabetesPedigreeFunction|Age|classe|\n",
      "+-----------+-------+-------------+-------------+-------+----+------------------------+---+------+\n",
      "|          6|    148|           72|           35|     79|33.6|                   0.627| 50|   1.0|\n",
      "|          1|     85|           66|           29|     79|26.6|                   0.351| 31|   0.0|\n",
      "|          8|    183|           64|           20|     79|23.3|                   0.672| 32|   1.0|\n",
      "|          1|     89|           66|           23|     94|28.1|                   0.167| 21|   0.0|\n",
      "|          0|    137|           40|           35|    168|43.1|                   2.288| 33|   1.0|\n",
      "|          5|    116|           74|           20|     79|25.6|                   0.201| 30|   0.0|\n",
      "|          3|     78|           50|           32|     88|31.0|                   0.248| 26|   1.0|\n",
      "|         10|    115|           68|           20|     79|35.3|                   0.134| 29|   0.0|\n",
      "|          2|    197|           70|           45|    543|30.5|                   0.158| 53|   1.0|\n",
      "|          8|    125|           96|           20|     79|31.0|                   0.232| 54|   1.0|\n",
      "|          4|    110|           92|           20|     79|37.6|                   0.191| 30|   0.0|\n",
      "|         10|    168|           74|           20|     79|38.0|                   0.537| 34|   1.0|\n",
      "|         10|    139|           80|           20|     79|27.1|                   1.441| 57|   0.0|\n",
      "|          1|    189|           60|           23|    846|30.1|                   0.398| 59|   1.0|\n",
      "|          5|    166|           72|           19|    175|25.8|                   0.587| 51|   1.0|\n",
      "|          7|    100|           68|           20|     79|30.0|                   0.484| 32|   1.0|\n",
      "|          0|    118|           84|           47|    230|45.8|                   0.551| 31|   1.0|\n",
      "|          7|    107|           74|           20|     79|29.6|                   0.254| 31|   1.0|\n",
      "|          1|    103|           30|           38|     83|43.3|                   0.183| 33|   0.0|\n",
      "|          1|    115|           70|           30|     96|34.6|                   0.529| 32|   1.0|\n",
      "+-----------+-------+-------------+-------------+-------+----+------------------------+---+------+\n",
      "only showing top 20 rows\n",
      "\n"
     ]
    }
   ],
   "source": [
    "#display the dataframe \n",
    "new_df.show()"
   ]
  },
  {
   "cell_type": "markdown",
   "id": "450bb5fa",
   "metadata": {},
   "source": [
    "## Correlation Analysis & Feature Selection"
   ]
  },
  {
   "cell_type": "code",
   "execution_count": 58,
   "id": "d9fee04b",
   "metadata": {},
   "outputs": [
    {
     "name": "stdout",
     "output_type": "stream",
     "text": [
      "Correlation to classe for Pregnancies is 0.22439606485792232\n",
      "Correlation to classe for Glucose is 0.4867228097216097\n",
      "Correlation to classe for BloodPressure is 0.14954404356951914\n",
      "Correlation to classe for SkinThickness is 0.16904645113988484\n",
      "Correlation to classe for Insulin is 0.19877004207874557\n",
      "Correlation to classe for BMI is 0.3229720240561377\n",
      "Correlation to classe for DiabetesPedigreeFunction is 0.1877744951239446\n",
      "Correlation to classe for Age is 0.22846348116796988\n",
      "Correlation to classe for classe is 1.0\n"
     ]
    }
   ],
   "source": [
    "#find the correlation among the set of input & output variables\n",
    "for i in new_df.columns:\n",
    "    print(\"Correlation to classe for {} is {}\".format(i, new_df.stat.corr(\"classe\",i)))"
   ]
  },
  {
   "cell_type": "code",
   "execution_count": 59,
   "id": "6a56e911",
   "metadata": {},
   "outputs": [],
   "source": [
    "#feature selection\n",
    "from pyspark.ml.feature import VectorAssembler\n",
    "\n",
    "assembler = VectorAssembler(inputCols = ['Pregnancies', 'Glucose', 'BloodPressure', 'SkinThickness', 'Insulin', 'BMI', 'DiabetesPedigreeFunction', 'Age'], outputCol='features')\n",
    "output_data = assembler.transform(new_df)"
   ]
  },
  {
   "cell_type": "code",
   "execution_count": 60,
   "id": "d2da7203",
   "metadata": {},
   "outputs": [
    {
     "name": "stdout",
     "output_type": "stream",
     "text": [
      "root\n",
      " |-- Pregnancies: integer (nullable = true)\n",
      " |-- Glucose: integer (nullable = true)\n",
      " |-- BloodPressure: integer (nullable = true)\n",
      " |-- SkinThickness: integer (nullable = true)\n",
      " |-- Insulin: integer (nullable = true)\n",
      " |-- BMI: double (nullable = true)\n",
      " |-- DiabetesPedigreeFunction: double (nullable = true)\n",
      " |-- Age: integer (nullable = true)\n",
      " |-- classe: double (nullable = false)\n",
      " |-- features: vector (nullable = true)\n",
      "\n"
     ]
    }
   ],
   "source": [
    "output_data.printSchema()"
   ]
  },
  {
   "cell_type": "code",
   "execution_count": 61,
   "id": "ae32e6cd",
   "metadata": {},
   "outputs": [
    {
     "name": "stdout",
     "output_type": "stream",
     "text": [
      "+-----------+-------+-------------+-------------+-------+----+------------------------+---+------+--------------------+\n",
      "|Pregnancies|Glucose|BloodPressure|SkinThickness|Insulin| BMI|DiabetesPedigreeFunction|Age|classe|            features|\n",
      "+-----------+-------+-------------+-------------+-------+----+------------------------+---+------+--------------------+\n",
      "|          6|    148|           72|           35|     79|33.6|                   0.627| 50|   1.0|[6.0,148.0,72.0,3...|\n",
      "|          1|     85|           66|           29|     79|26.6|                   0.351| 31|   0.0|[1.0,85.0,66.0,29...|\n",
      "|          8|    183|           64|           20|     79|23.3|                   0.672| 32|   1.0|[8.0,183.0,64.0,2...|\n",
      "|          1|     89|           66|           23|     94|28.1|                   0.167| 21|   0.0|[1.0,89.0,66.0,23...|\n",
      "|          0|    137|           40|           35|    168|43.1|                   2.288| 33|   1.0|[0.0,137.0,40.0,3...|\n",
      "|          5|    116|           74|           20|     79|25.6|                   0.201| 30|   0.0|[5.0,116.0,74.0,2...|\n",
      "|          3|     78|           50|           32|     88|31.0|                   0.248| 26|   1.0|[3.0,78.0,50.0,32...|\n",
      "|         10|    115|           68|           20|     79|35.3|                   0.134| 29|   0.0|[10.0,115.0,68.0,...|\n",
      "|          2|    197|           70|           45|    543|30.5|                   0.158| 53|   1.0|[2.0,197.0,70.0,4...|\n",
      "|          8|    125|           96|           20|     79|31.0|                   0.232| 54|   1.0|[8.0,125.0,96.0,2...|\n",
      "|          4|    110|           92|           20|     79|37.6|                   0.191| 30|   0.0|[4.0,110.0,92.0,2...|\n",
      "|         10|    168|           74|           20|     79|38.0|                   0.537| 34|   1.0|[10.0,168.0,74.0,...|\n",
      "|         10|    139|           80|           20|     79|27.1|                   1.441| 57|   0.0|[10.0,139.0,80.0,...|\n",
      "|          1|    189|           60|           23|    846|30.1|                   0.398| 59|   1.0|[1.0,189.0,60.0,2...|\n",
      "|          5|    166|           72|           19|    175|25.8|                   0.587| 51|   1.0|[5.0,166.0,72.0,1...|\n",
      "|          7|    100|           68|           20|     79|30.0|                   0.484| 32|   1.0|[7.0,100.0,68.0,2...|\n",
      "|          0|    118|           84|           47|    230|45.8|                   0.551| 31|   1.0|[0.0,118.0,84.0,4...|\n",
      "|          7|    107|           74|           20|     79|29.6|                   0.254| 31|   1.0|[7.0,107.0,74.0,2...|\n",
      "|          1|    103|           30|           38|     83|43.3|                   0.183| 33|   0.0|[1.0,103.0,30.0,3...|\n",
      "|          1|    115|           70|           30|     96|34.6|                   0.529| 32|   1.0|[1.0,115.0,70.0,3...|\n",
      "+-----------+-------+-------------+-------------+-------+----+------------------------+---+------+--------------------+\n",
      "only showing top 20 rows\n",
      "\n"
     ]
    }
   ],
   "source": [
    "output_data.show()"
   ]
  },
  {
   "cell_type": "markdown",
   "id": "1acbc948",
   "metadata": {},
   "source": [
    "## Split Dataset & Build the Model"
   ]
  },
  {
   "cell_type": "code",
   "execution_count": 62,
   "id": "0f6c0b55",
   "metadata": {},
   "outputs": [],
   "source": [
    "#create final data\n",
    "from pyspark.ml.classification import LogisticRegression\n",
    "\n",
    "final_data = output_data.select('features','classe')"
   ]
  },
  {
   "cell_type": "code",
   "execution_count": 63,
   "id": "2f29ecf1",
   "metadata": {},
   "outputs": [
    {
     "name": "stdout",
     "output_type": "stream",
     "text": [
      "root\n",
      " |-- features: vector (nullable = true)\n",
      " |-- classe: double (nullable = false)\n",
      "\n"
     ]
    }
   ],
   "source": [
    "final_data.printSchema()"
   ]
  },
  {
   "cell_type": "code",
   "execution_count": 64,
   "id": "c493ad2f",
   "metadata": {},
   "outputs": [
    {
     "name": "stderr",
     "output_type": "stream",
     "text": [
      "                                                                                \r"
     ]
    }
   ],
   "source": [
    "train, test = final_data.randomSplit([0.8, 0.2])\n",
    "models = LogisticRegression(labelCol= 'classe')\n",
    "model = models.fit(train)"
   ]
  },
  {
   "cell_type": "code",
   "execution_count": 65,
   "id": "90627890",
   "metadata": {},
   "outputs": [
    {
     "name": "stderr",
     "output_type": "stream",
     "text": [
      "                                                                                \r"
     ]
    },
    {
     "name": "stdout",
     "output_type": "stream",
     "text": [
      "+-------+-------------------+-------------------+\n",
      "|summary|             classe|         prediction|\n",
      "+-------+-------------------+-------------------+\n",
      "|  count|                517|                517|\n",
      "|   mean|0.33849129593810445|0.26499032882011603|\n",
      "| stddev| 0.4736548133309049|0.44175549410613285|\n",
      "|    min|                0.0|                0.0|\n",
      "|    max|                1.0|                1.0|\n",
      "+-------+-------------------+-------------------+\n",
      "\n"
     ]
    }
   ],
   "source": [
    "#summary of the model\n",
    "summary = model.summary\n",
    "summary.predictions.describe().show()"
   ]
  },
  {
   "cell_type": "markdown",
   "id": "392a5092",
   "metadata": {},
   "source": [
    "## Evaluate and Save the Model"
   ]
  },
  {
   "cell_type": "code",
   "execution_count": 66,
   "id": "d943ebeb",
   "metadata": {},
   "outputs": [],
   "source": [
    "from pyspark.ml.evaluation import BinaryClassificationEvaluator\n",
    "\n",
    "predictions = model.evaluate(test)"
   ]
  },
  {
   "cell_type": "code",
   "execution_count": 67,
   "id": "c71b4920",
   "metadata": {},
   "outputs": [
    {
     "name": "stdout",
     "output_type": "stream",
     "text": [
      "+--------------------+------+--------------------+--------------------+----------+\n",
      "|            features|classe|       rawPrediction|         probability|prediction|\n",
      "+--------------------+------+--------------------+--------------------+----------+\n",
      "|[0.0,57.0,60.0,20...|   0.0|[3.84377494040818...|[0.97903627107118...|       0.0|\n",
      "|[0.0,86.0,68.0,32...|   0.0|[2.50375768161128...|[0.92440482793639...|       0.0|\n",
      "|[0.0,93.0,60.0,25...|   0.0|[2.78627145819572...|[0.94192943528251...|       0.0|\n",
      "|[0.0,93.0,100.0,3...|   0.0|[0.95133397647584...|[0.72138337232106...|       0.0|\n",
      "|[0.0,105.0,90.0,2...|   0.0|[2.27412203020615...|[0.90671103936416...|       0.0|\n",
      "|[0.0,119.0,64.0,1...|   0.0|[1.02007470172075...|[0.73498715020073...|       0.0|\n",
      "|[0.0,119.0,68.0,2...|   1.0|[1.72018708407139...|[0.84815293238342...|       0.0|\n",
      "|[0.0,123.0,88.0,3...|   0.0|[1.32487372499690...|[0.78999142454247...|       0.0|\n",
      "|[0.0,126.0,84.0,2...|   0.0|[1.63025638870762...|[0.83620475843186...|       0.0|\n",
      "|[0.0,128.0,68.0,1...|   1.0|[0.74570033184377...|[0.67824110212061...|       0.0|\n",
      "|[0.0,137.0,84.0,2...|   0.0|[0.99983214121163...|[0.73102557430911...|       0.0|\n",
      "|[0.0,139.0,62.0,1...|   0.0|[2.14469972047577...|[0.89517244607907...|       0.0|\n",
      "|[0.0,146.0,70.0,2...|   1.0|[-0.0797207550862...|[0.48008035988252...|       1.0|\n",
      "|[0.0,162.0,76.0,5...|   1.0|[-2.4777425448366...|[0.07743331509879...|       1.0|\n",
      "|[0.0,180.0,66.0,3...|   1.0|[-2.8837512051070...|[0.05296266903471...|       1.0|\n",
      "|[0.0,180.0,78.0,6...|   1.0|[-5.0674777385038...|[0.00625886591989...|       1.0|\n",
      "|[1.0,77.0,56.0,30...|   0.0|[2.15762900808008...|[0.89637952994258...|       0.0|\n",
      "|[1.0,79.0,75.0,30...|   0.0|[3.07298689258439...|[0.95576462611427...|       0.0|\n",
      "|[1.0,80.0,55.0,20...|   0.0|[4.35644699581858...|[0.98733849937283...|       0.0|\n",
      "|[1.0,80.0,74.0,11...|   0.0|[3.11834081739164...|[0.95764297797130...|       0.0|\n",
      "+--------------------+------+--------------------+--------------------+----------+\n",
      "only showing top 20 rows\n",
      "\n"
     ]
    }
   ],
   "source": [
    "predictions.predictions.show(20)"
   ]
  },
  {
   "cell_type": "code",
   "execution_count": 68,
   "id": "b2c0c4d8",
   "metadata": {},
   "outputs": [
    {
     "data": {
      "text/plain": [
       "0.837173579109063"
      ]
     },
     "execution_count": 68,
     "metadata": {},
     "output_type": "execute_result"
    }
   ],
   "source": [
    "evaluator = BinaryClassificationEvaluator(rawPredictionCol= 'rawPrediction', labelCol='classe')\n",
    "evaluator.evaluate(model.transform(test))"
   ]
  },
  {
   "cell_type": "code",
   "execution_count": 69,
   "id": "7e772ce8",
   "metadata": {},
   "outputs": [
    {
     "name": "stderr",
     "output_type": "stream",
     "text": [
      "                                                                                \r"
     ]
    }
   ],
   "source": [
    "model.save(\"model\")"
   ]
  },
  {
   "cell_type": "code",
   "execution_count": null,
   "id": "e1094191",
   "metadata": {},
   "outputs": [
    {
     "name": "stderr",
     "output_type": "stream",
     "text": [
      "INFO:     Started server process [31397]\n",
      "INFO:     Waiting for application startup.\n",
      "INFO:     Application startup complete.\n",
      "INFO:     Uvicorn running on http://127.0.0.1:8000 (Press CTRL+C to quit)\n"
     ]
    },
    {
     "name": "stdout",
     "output_type": "stream",
     "text": [
      "INFO:     127.0.0.1:36158 - \"GET /predict?data=1,4,2,4,2,5,6,24 HTTP/1.1\" 200 OK\n",
      "INFO:     127.0.0.1:34988 - \"GET /predict?data=3,4,2,1,2,1,3,24 HTTP/1.1\" 200 OK\n",
      "INFO:     127.0.0.1:37140 - \"GET /predict?data=1,3,23,1,2,1,3,30 HTTP/1.1\" 200 OK\n",
      "INFO:     127.0.0.1:37140 - \"GET /predict?data=1,3,23,1,2,1,3,30 HTTP/1.1\" 200 OK\n",
      "INFO:     127.0.0.1:36962 - \"GET /predict?data=1,30,23,1,2,1,3,20 HTTP/1.1\" 200 OK\n",
      "INFO:     127.0.0.1:36968 - \"GET /predict?data=1,30,23,1,2,1,3,20 HTTP/1.1\" 200 OK\n",
      "INFO:     127.0.0.1:36964 - \"GET /predict?data=1,30,23,1,2,1,3,20 HTTP/1.1\" 200 OK\n",
      "INFO:     127.0.0.1:41448 - \"GET /predict?data=1,1,23,1,2,1,3,20 HTTP/1.1\" 200 OK\n",
      "INFO:     127.0.0.1:41448 - \"GET /predict?data=1,1,1,1,2,1,3,20 HTTP/1.1\" 200 OK\n",
      "INFO:     127.0.0.1:49300 - \"GET /predict?data=1,1,1,1,2,1,3,20 HTTP/1.1\" 200 OK\n",
      "INFO:     127.0.0.1:46112 - \"GET /predict?data=1,1,1,1,2,1,1,20 HTTP/1.1\" 200 OK\n",
      "INFO:     127.0.0.1:46112 - \"GET /predict?data=1,1,1,1,2,1,1,201 HTTP/1.1\" 200 OK\n",
      "INFO:     127.0.0.1:53546 - \"GET /predict?data=1,1,1,1,1,1,1,201 HTTP/1.1\" 200 OK\n",
      "INFO:     127.0.0.1:53546 - \"GET /predict?data=1,1,1,1,1,1,1,201 HTTP/1.1\" 200 OK\n",
      "INFO:     127.0.0.1:53546 - \"GET /predict?data=1,1,1,1,1,1,1,1 HTTP/1.1\" 200 OK\n",
      "INFO:     127.0.0.1:53546 - \"GET /predict?data=17,1,1,1,1,1,1,1 HTTP/1.1\" 200 OK\n",
      "INFO:     127.0.0.1:53546 - \"GET /predict?data=17,1,1,1,1,1,1,18 HTTP/1.1\" 200 OK\n",
      "INFO:     127.0.0.1:53546 - \"GET /predict?data=17,1,1,1,1,1,19,18 HTTP/1.1\" 200 OK\n",
      "INFO:     127.0.0.1:39466 - \"GET /predict?data=17,1,1,1,1,1,19,18 HTTP/1.1\" 200 OK\n",
      "INFO:     127.0.0.1:39482 - \"GET /predict?data=17,1,1,1,1,1,19,18 HTTP/1.1\" 200 OK\n"
     ]
    }
   ],
   "source": [
    "from fastapi import FastAPI\n",
    "from pyspark.ml.classification import LogisticRegressionModel\n",
    "import nest_asyncio\n",
    "import asyncio\n",
    "import uvicorn\n",
    "from pyspark.sql.types import IntegerType, DoubleType\n",
    "from pyspark.sql.types import StructField\n",
    "from pyspark.sql import Row\n",
    "from fastapi.middleware.cors import CORSMiddleware\n",
    "\n",
    "app = FastAPI()\n",
    "\n",
    "origins = [\n",
    "    \"http://localhost.tiangolo.com\",\n",
    "    \"https://localhost.tiangolo.com\",\n",
    "    \"http://localhost\",\n",
    "    \"http://localhost:4200\",\n",
    "]\n",
    "\n",
    "app.add_middleware(\n",
    "    CORSMiddleware,\n",
    "    allow_origins=origins,\n",
    "    allow_credentials=True,\n",
    "    allow_methods=[\"*\"],\n",
    "    allow_headers=[\"*\"],\n",
    ")\n",
    "\n",
    "\n",
    "@app.get(\"/predict\")\n",
    "def predict(data):\n",
    "    model = LogisticRegressionModel.load('model')\n",
    "\n",
    "    x=data.split(\",\")\n",
    "    test_df = spark.createDataFrame(\n",
    "     [   (int(x[0]), int(x[1]),int(x[2]),int(x[3]),int(x[4]),float(x[5]),float(x[6]), int(x[7]))\n",
    "    ],\n",
    "    ['Pregnancies', 'Glucose', 'BloodPressure', 'SkinThickness', 'Insulin', 'BMI', 'DiabetesPedigreeFunction', 'Age'])\n",
    "\n",
    "    test_data = assembler.transform(test_df)\n",
    "    results = model.transform(test_data)\n",
    "    result=results.collect()[0][-1]\n",
    "    if result==1:\n",
    "        msg='Tested Positive'\n",
    "    else:\n",
    "        msg='Tested Negative'\n",
    "    return msg\n",
    "\n",
    "if __name__ == \"__main__\":\n",
    "    nest_asyncio.apply()\n",
    "    uvicorn.run(app)"
   ]
  },
  {
   "cell_type": "code",
   "execution_count": 168,
   "id": "b0d2c85a",
   "metadata": {},
   "outputs": [
    {
     "name": "stdout",
     "output_type": "stream",
     "text": [
      "+--------------------+----------+\n",
      "|            features|prediction|\n",
      "+--------------------+----------+\n",
      "|[0.0,137.0,40.0,3...|       1.0|\n",
      "+--------------------+----------+\n",
      "\n",
      "1.0\n"
     ]
    }
   ],
   "source": [
    "from pyspark.sql import Row\n",
    "data1 = {\"Pregnancies\": 0,\"Glucose\":137,\"BloodPressure\":40,\"SkinThickness\":35,\"Insulin\":168,\"BMI\":43.1,\"DiabetesPedigreeFunction\":2.288,\"Age\":33}\n",
    "        \n",
    "data1=Row(data1)\n",
    "# Create data frame\n",
    "df1 = spark.createDataFrame(data1)\n",
    "test_data = assembler.transform(df1)\n",
    "results = model.transform(test_data)\n",
    "results.select('features','prediction').show()\n",
    "print(results.collect()[0][-1])"
   ]
  },
  {
   "cell_type": "code",
   "execution_count": 177,
   "id": "82088831",
   "metadata": {},
   "outputs": [
    {
     "name": "stderr",
     "output_type": "stream",
     "text": [
      "INFO:     Started server process [31397]\n",
      "INFO:     Waiting for application startup.\n",
      "INFO:     Application startup complete.\n",
      "INFO:     Uvicorn running on http://127.0.0.1:8000 (Press CTRL+C to quit)\n"
     ]
    },
    {
     "name": "stdout",
     "output_type": "stream",
     "text": [
      "INFO:     127.0.0.1:56370 - \"GET / HTTP/1.1\" 200 OK\n"
     ]
    },
    {
     "name": "stderr",
     "output_type": "stream",
     "text": [
      "WARNING:  Unsupported upgrade request.\n",
      "WARNING:  No supported WebSocket library detected. Please use 'pip install uvicorn[standard]', or install 'websockets' or 'wsproto' manually.\n"
     ]
    },
    {
     "name": "stdout",
     "output_type": "stream",
     "text": [
      "INFO:     127.0.0.1:56372 - \"GET /ws HTTP/1.1\" 404 Not Found\n"
     ]
    },
    {
     "name": "stderr",
     "output_type": "stream",
     "text": [
      "INFO:     Shutting down\n",
      "INFO:     Waiting for application shutdown.\n",
      "INFO:     Application shutdown complete.\n",
      "INFO:     Finished server process [31397]\n"
     ]
    }
   ],
   "source": [
    "from fastapi import FastAPI, WebSocket\n",
    "from fastapi.responses import HTMLResponse\n",
    "\n",
    "app = FastAPI()\n",
    "\n",
    "html = \"\"\"\n",
    "<!DOCTYPE html>\n",
    "<html>\n",
    "    <head>\n",
    "        <title>Chat</title>\n",
    "    </head>\n",
    "    <body>\n",
    "        <h1>WebSocket Chat</h1>\n",
    "        <form action=\"\" onsubmit=\"sendMessage(event)\">\n",
    "            <input type=\"text\" id=\"messageText\" autocomplete=\"off\"/>\n",
    "            <button>Send</button>\n",
    "        </form>\n",
    "        <ul id='messages'>\n",
    "        </ul>\n",
    "        <script>\n",
    "            var ws = new WebSocket(\"ws://localhost:8000/ws\");\n",
    "            ws.onmessage = function(event) {\n",
    "                var messages = document.getElementById('messages')\n",
    "                var message = document.createElement('li')\n",
    "                var content = document.createTextNode(event.data)\n",
    "                message.appendChild(content)\n",
    "                messages.appendChild(message)\n",
    "            };\n",
    "            function sendMessage(event) {\n",
    "                var input = document.getElementById(\"messageText\")\n",
    "                ws.send(input.value)\n",
    "                input.value = ''\n",
    "                event.preventDefault()\n",
    "            }\n",
    "        </script>\n",
    "    </body>\n",
    "</html>\n",
    "\"\"\"\n",
    "\n",
    "\n",
    "@app.get(\"/\")\n",
    "async def get():\n",
    "    return HTMLResponse(html)\n",
    "\n",
    "\n",
    "@app.websocket(\"/ws\")\n",
    "async def websocket_endpoint(websocket: WebSocket):\n",
    "    await websocket.accept()\n",
    "    while True:\n",
    "        data = await websocket.receive_text()\n",
    "        await websocket.send_text(f\"Message text was: {data}\")\n",
    "\n",
    "\n",
    "if __name__ == \"__main__\":\n",
    "    nest_asyncio.apply()\n",
    "    uvicorn.run(app)"
   ]
  },
  {
   "cell_type": "code",
   "execution_count": null,
   "id": "445027b2",
   "metadata": {},
   "outputs": [],
   "source": []
  }
 ],
 "metadata": {
  "kernelspec": {
   "display_name": "Python 3 (ipykernel)",
   "language": "python",
   "name": "python3"
  },
  "language_info": {
   "codemirror_mode": {
    "name": "ipython",
    "version": 3
   },
   "file_extension": ".py",
   "mimetype": "text/x-python",
   "name": "python",
   "nbconvert_exporter": "python",
   "pygments_lexer": "ipython3",
   "version": "3.8.10"
  }
 },
 "nbformat": 4,
 "nbformat_minor": 5
}
